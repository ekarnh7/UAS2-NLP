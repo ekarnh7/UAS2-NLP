{
 "cells": [
  {
   "cell_type": "markdown",
   "metadata": {},
   "source": [
    "# Memisahkan dataset\n",
    "\n",
    "Pada studi kasus ini setelah dataset sudah dilakukan tahapan preprocessing, kami memisahkan dataset menjadi dua bagian yaitu :\n",
    "1. 70% untuk data training\n",
    "2. 30% untuk data testing"
   ]
  },
  {
   "cell_type": "code",
   "execution_count": 5,
   "metadata": {},
   "outputs": [],
   "source": [
    "# Import library pandes : Library python yang fokus pada analisis data seperti manipulasi data, persiapan data dan pembersihan data\n",
    "\n",
    "import pandas as pd"
   ]
  },
  {
   "cell_type": "code",
   "execution_count": 6,
   "metadata": {},
   "outputs": [
    {
     "data": {
      "text/html": [
       "<div>\n",
       "<style scoped>\n",
       "    .dataframe tbody tr th:only-of-type {\n",
       "        vertical-align: middle;\n",
       "    }\n",
       "\n",
       "    .dataframe tbody tr th {\n",
       "        vertical-align: top;\n",
       "    }\n",
       "\n",
       "    .dataframe thead th {\n",
       "        text-align: right;\n",
       "    }\n",
       "</style>\n",
       "<table border=\"1\" class=\"dataframe\">\n",
       "  <thead>\n",
       "    <tr style=\"text-align: right;\">\n",
       "      <th></th>\n",
       "      <th>ulasan</th>\n",
       "      <th>nilai</th>\n",
       "    </tr>\n",
       "  </thead>\n",
       "  <tbody>\n",
       "    <tr>\n",
       "      <th>0</th>\n",
       "      <td>good job pintu kasih kembang sukses</td>\n",
       "      <td>POSITIF</td>\n",
       "    </tr>\n",
       "    <tr>\n",
       "      <th>1</th>\n",
       "      <td>aplikasi ringan deposit wd pilih mudah ajar co...</td>\n",
       "      <td>POSITIF</td>\n",
       "    </tr>\n",
       "    <tr>\n",
       "      <th>2</th>\n",
       "      <td>utk crypto solana tdk beli</td>\n",
       "      <td>NEGATIF</td>\n",
       "    </tr>\n",
       "    <tr>\n",
       "      <th>3</th>\n",
       "      <td>bikin koin hebat cari cuan aja emang kaya bkin...</td>\n",
       "      <td>POSITIF</td>\n",
       "    </tr>\n",
       "    <tr>\n",
       "      <th>4</th>\n",
       "      <td>susah kirim idrt binancengga</td>\n",
       "      <td>NEGATIF</td>\n",
       "    </tr>\n",
       "  </tbody>\n",
       "</table>\n",
       "</div>"
      ],
      "text/plain": [
       "                                              ulasan    nilai\n",
       "0                good job pintu kasih kembang sukses  POSITIF\n",
       "1  aplikasi ringan deposit wd pilih mudah ajar co...  POSITIF\n",
       "2                         utk crypto solana tdk beli  NEGATIF\n",
       "3  bikin koin hebat cari cuan aja emang kaya bkin...  POSITIF\n",
       "4                       susah kirim idrt binancengga  NEGATIF"
      ]
     },
     "execution_count": 6,
     "metadata": {},
     "output_type": "execute_result"
    }
   ],
   "source": [
    "# Lokasi dataset yang sudah bersih \n",
    "# Membaca dataset\n",
    "\n",
    "data_path=(\"../output/dataset-pintu-cleaning.csv\")\n",
    "read_data=pd.read_csv(data_path)\n",
    "read_data.head()"
   ]
  },
  {
   "cell_type": "code",
   "execution_count": 7,
   "metadata": {},
   "outputs": [
    {
     "data": {
      "text/plain": [
       "ulasan      string\n",
       "nilai     category\n",
       "dtype: object"
      ]
     },
     "execution_count": 7,
     "metadata": {},
     "output_type": "execute_result"
    }
   ],
   "source": [
    "# Merubah typedata pada variabel agar selanjutnya dapat melakukan proses TF-IDF\n",
    "\n",
    "read_data = read_data.astype({'ulasan':'string'})\n",
    "read_data = read_data.astype({'nilai':'category'})\n",
    "read_data.dtypes"
   ]
  },
  {
   "cell_type": "code",
   "execution_count": 8,
   "metadata": {},
   "outputs": [
    {
     "data": {
      "text/plain": [
       "<1000x1940 sparse matrix of type '<class 'numpy.float64'>'\n",
       "\twith 6162 stored elements in Compressed Sparse Row format>"
      ]
     },
     "execution_count": 8,
     "metadata": {},
     "output_type": "execute_result"
    }
   ],
   "source": [
    "# Melakukan proses TF-IDF\n",
    "\n",
    "from sklearn.feature_extraction.text import CountVectorizer\n",
    "from sklearn.feature_extraction.text import TfidfVectorizer\n",
    "\n",
    "tfIdf=TfidfVectorizer()\n",
    "text_tfIdf = tfIdf.fit_transform(read_data['ulasan'].astype('U'))\n",
    "text_tfIdf\n"
   ]
  },
  {
   "cell_type": "code",
   "execution_count": 9,
   "metadata": {},
   "outputs": [],
   "source": [
    "# Memisahkan dataset menjadi data training (70%) dan data testing (30%)\n",
    "# random state = 42, maka berapa kali mengeksekusi kode hasilnya akan sama \n",
    "\n",
    "from sklearn.model_selection import train_test_split\n",
    "x_train, x_test, y_train, y_test = train_test_split(text_tfIdf, read_data['nilai'], test_size=0.7, random_state=42)\n"
   ]
  },
  {
   "cell_type": "markdown",
   "metadata": {},
   "source": [
    "# Algoritma Naive Bayes \n",
    "\n",
    "Melakukan pengujian dengan beberapa metrik seperti :\n",
    "1. Accurancy \n",
    "2. Precision\n",
    "3. Recall\n",
    "4. F1\n"
   ]
  },
  {
   "cell_type": "code",
   "execution_count": 10,
   "metadata": {},
   "outputs": [
    {
     "name": "stdout",
     "output_type": "stream",
     "text": [
      "Accurancy :  0.7342857142857143\n",
      "Precision :  0.92\n",
      "Recall :  0.1111111111111111\n",
      "F1 :  0.1982758620689655\n",
      "confusion_matrix:\n",
      " [[ 23 184]\n",
      " [  2 491]]\n"
     ]
    }
   ],
   "source": [
    "from sklearn.naive_bayes import MultinomialNB\n",
    "from sklearn.metrics import accuracy_score, precision_score, recall_score, f1_score\n",
    "from sklearn.metrics import confusion_matrix\n",
    "\n",
    "clf = MultinomialNB().fit(x_train, y_train)\n",
    "prediksi = clf.predict(x_test)\n",
    "print(\"Accurancy : \", accuracy_score(y_test, prediksi))\n",
    "print(\"Precision : \", precision_score(y_test, prediksi, average=\"binary\", pos_label=\"NEGATIF\"))\n",
    "print(\"Recall : \", recall_score(y_test, prediksi, average=\"binary\", pos_label=\"NEGATIF\"))\n",
    "print(\"F1 : \", f1_score(y_test, prediksi, average=\"binary\", pos_label=\"NEGATIF\"))\n",
    "\n",
    "print(f'confusion_matrix:\\n {confusion_matrix(y_test, prediksi)}')\n"
   ]
  }
 ],
 "metadata": {
  "interpreter": {
   "hash": "6d46af94c2bbce495f1e668725902fa517c90b1782bcfe2fce0dd9868df553d3"
  },
  "kernelspec": {
   "display_name": "Python 3.9.7 64-bit ('base': conda)",
   "language": "python",
   "name": "python3"
  },
  "language_info": {
   "codemirror_mode": {
    "name": "ipython",
    "version": 3
   },
   "file_extension": ".py",
   "mimetype": "text/x-python",
   "name": "python",
   "nbconvert_exporter": "python",
   "pygments_lexer": "ipython3",
   "version": "3.9.7"
  },
  "orig_nbformat": 4
 },
 "nbformat": 4,
 "nbformat_minor": 2
}
