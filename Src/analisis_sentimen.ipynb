{
 "cells": [
  {
   "cell_type": "markdown",
   "metadata": {},
   "source": [
    "# Analisis Sentimen Aplikasi Pintu "
   ]
  },
  {
   "cell_type": "code",
   "execution_count": 2,
   "metadata": {},
   "outputs": [
    {
     "data": {
      "text/html": [
       "<div>\n",
       "<style scoped>\n",
       "    .dataframe tbody tr th:only-of-type {\n",
       "        vertical-align: middle;\n",
       "    }\n",
       "\n",
       "    .dataframe tbody tr th {\n",
       "        vertical-align: top;\n",
       "    }\n",
       "\n",
       "    .dataframe thead th {\n",
       "        text-align: right;\n",
       "    }\n",
       "</style>\n",
       "<table border=\"1\" class=\"dataframe\">\n",
       "  <thead>\n",
       "    <tr style=\"text-align: right;\">\n",
       "      <th></th>\n",
       "      <th>ulasan</th>\n",
       "      <th>rating</th>\n",
       "      <th>nilai</th>\n",
       "    </tr>\n",
       "  </thead>\n",
       "  <tbody>\n",
       "    <tr>\n",
       "      <th>0</th>\n",
       "      <td>Good job buat pintu saya kasih 5 ..kembangkan ...</td>\n",
       "      <td>5</td>\n",
       "      <td>POSITIF</td>\n",
       "    </tr>\n",
       "    <tr>\n",
       "      <th>1</th>\n",
       "      <td>Aplikasi ringan, deposit dan wd banyak pilihan...</td>\n",
       "      <td>5</td>\n",
       "      <td>POSITIF</td>\n",
       "    </tr>\n",
       "    <tr>\n",
       "      <th>2</th>\n",
       "      <td>Kenapa utk Crypto Solana tdk bisa dilakukan pe...</td>\n",
       "      <td>3</td>\n",
       "      <td>NEGATIF</td>\n",
       "    </tr>\n",
       "    <tr>\n",
       "      <th>3</th>\n",
       "      <td>Mau bikin koin hebat, apa cari cuan aja, emang...</td>\n",
       "      <td>4</td>\n",
       "      <td>POSITIF</td>\n",
       "    </tr>\n",
       "    <tr>\n",
       "      <th>4</th>\n",
       "      <td>Semakin susah kirim idrt ke binance,ngga seper...</td>\n",
       "      <td>3</td>\n",
       "      <td>NEGATIF</td>\n",
       "    </tr>\n",
       "  </tbody>\n",
       "</table>\n",
       "</div>"
      ],
      "text/plain": [
       "                                              ulasan  rating    nilai\n",
       "0  Good job buat pintu saya kasih 5 ..kembangkan ...       5  POSITIF\n",
       "1  Aplikasi ringan, deposit dan wd banyak pilihan...       5  POSITIF\n",
       "2  Kenapa utk Crypto Solana tdk bisa dilakukan pe...       3  NEGATIF\n",
       "3  Mau bikin koin hebat, apa cari cuan aja, emang...       4  POSITIF\n",
       "4  Semakin susah kirim idrt ke binance,ngga seper...       3  NEGATIF"
      ]
     },
     "execution_count": 2,
     "metadata": {},
     "output_type": "execute_result"
    }
   ],
   "source": [
    "# Lokasi dataset yang sudah diberi label POSITIF atau NEGATIF\n",
    "# variabel ulasan, rating dan nilai\n",
    "# Membaca file dataset csv\n",
    "\n",
    "import pandas as pd\n",
    "data_path=(\"../data/dataset-pintu-labeling.csv\")\n",
    "read_data=pd.read_csv(data_path)\n",
    "read_data.head()"
   ]
  },
  {
   "cell_type": "code",
   "execution_count": 3,
   "metadata": {},
   "outputs": [],
   "source": [
    "# Memfilter dataset yang sudah diberi label menggunakan variabel ulasan dan nilai\n",
    "# Menyimpan dataset dengan variabel ulasan dan nilai\n",
    "\n",
    "dataset= read_data[['ulasan','nilai']]\n",
    "dataset.head()\n",
    "dataset.to_csv(\"../data/dataset-pintu-labeling-filter.csv\", index=False)"
   ]
  },
  {
   "cell_type": "markdown",
   "metadata": {},
   "source": [
    "##### Preprocessing"
   ]
  },
  {
   "cell_type": "code",
   "execution_count": 4,
   "metadata": {},
   "outputs": [
    {
     "name": "stdout",
     "output_type": "stream",
     "text": [
      "Requirement already satisfied: nltk in c:\\users\\user\\anaconda3\\lib\\site-packages (3.6.5)\n",
      "Requirement already satisfied: click in c:\\users\\user\\anaconda3\\lib\\site-packages (from nltk) (8.0.3)\n",
      "Requirement already satisfied: joblib in c:\\users\\user\\anaconda3\\lib\\site-packages (from nltk) (1.1.0)\n",
      "Requirement already satisfied: regex>=2021.8.3 in c:\\users\\user\\anaconda3\\lib\\site-packages (from nltk) (2021.8.3)\n",
      "Requirement already satisfied: tqdm in c:\\users\\user\\anaconda3\\lib\\site-packages (from nltk) (4.62.3)\n",
      "Requirement already satisfied: colorama in c:\\users\\user\\anaconda3\\lib\\site-packages (from click->nltk) (0.4.4)\n",
      "Note: you may need to restart the kernel to use updated packages.\n",
      "Requirement already satisfied: sastrawi in c:\\users\\user\\anaconda3\\lib\\site-packages (1.0.1)\n",
      "Note: you may need to restart the kernel to use updated packages.\n"
     ]
    },
    {
     "name": "stderr",
     "output_type": "stream",
     "text": [
      "[nltk_data] Downloading package stopwords to\n",
      "[nltk_data]     C:\\Users\\user\\AppData\\Roaming\\nltk_data...\n",
      "[nltk_data]   Package stopwords is already up-to-date!\n"
     ]
    }
   ],
   "source": [
    "# Install library NLTK : Library python membantu mempermudah dalam memproses teks seperti tokenization, filtering, dll\n",
    "# Install library sastrawi : Library python yang dapat mengubah kata berimbuhan menjadi kata dasar\n",
    "# Import tipe data string : Salah satu jenis tipe data pada bahasa pemrograman python dan biasanyan berisi karakter\n",
    "# Import library Pipeline : Library python yang mempermudah dalam membuat jalur data dengan bantuan peta, filter, dll\n",
    "# Import library numpy : Libarary python yang fokus pada scientific computing\n",
    "# Import library pandas : Library python yang fokus pada analisis data seperti manipulasi data, persiapan data dan pembersihan data\n",
    "# Import library re: Regular expression \n",
    "\n",
    "%pip install nltk\n",
    "%pip install sastrawi\n",
    "import string\n",
    "import pandas as pd\n",
    "import numpy as np\n",
    "import re\n",
    "\n",
    "\n",
    "# Untuk proses filtering\n",
    "import nltk\n",
    "nltk.download('stopwords')\n",
    "from nltk.corpus import stopwords\n",
    "\n",
    "# Untuk proses stemming\n",
    "from Sastrawi.Stemmer.StemmerFactory import StemmerFactory\n",
    "\n"
   ]
  },
  {
   "cell_type": "code",
   "execution_count": 5,
   "metadata": {},
   "outputs": [
    {
     "name": "stderr",
     "output_type": "stream",
     "text": [
      "C:\\Users\\user\\AppData\\Local\\Temp/ipykernel_7412/1564093751.py:19: SettingWithCopyWarning: \n",
      "A value is trying to be set on a copy of a slice from a DataFrame.\n",
      "Try using .loc[row_indexer,col_indexer] = value instead\n",
      "\n",
      "See the caveats in the documentation: https://pandas.pydata.org/pandas-docs/stable/user_guide/indexing.html#returning-a-view-versus-a-copy\n",
      "  dataset['ulasan']=dataset['ulasan'].apply(casefolding)\n"
     ]
    },
    {
     "data": {
      "text/html": [
       "<div>\n",
       "<style scoped>\n",
       "    .dataframe tbody tr th:only-of-type {\n",
       "        vertical-align: middle;\n",
       "    }\n",
       "\n",
       "    .dataframe tbody tr th {\n",
       "        vertical-align: top;\n",
       "    }\n",
       "\n",
       "    .dataframe thead th {\n",
       "        text-align: right;\n",
       "    }\n",
       "</style>\n",
       "<table border=\"1\" class=\"dataframe\">\n",
       "  <thead>\n",
       "    <tr style=\"text-align: right;\">\n",
       "      <th></th>\n",
       "      <th>ulasan</th>\n",
       "      <th>nilai</th>\n",
       "    </tr>\n",
       "  </thead>\n",
       "  <tbody>\n",
       "    <tr>\n",
       "      <th>0</th>\n",
       "      <td>good job buat pintu saya kasih  kembangkan ter...</td>\n",
       "      <td>POSITIF</td>\n",
       "    </tr>\n",
       "    <tr>\n",
       "      <th>1</th>\n",
       "      <td>aplikasi ringan deposit dan wd banyak pilihan ...</td>\n",
       "      <td>POSITIF</td>\n",
       "    </tr>\n",
       "    <tr>\n",
       "      <th>2</th>\n",
       "      <td>kenapa utk crypto solana tdk bisa dilakukan pe...</td>\n",
       "      <td>NEGATIF</td>\n",
       "    </tr>\n",
       "    <tr>\n",
       "      <th>3</th>\n",
       "      <td>mau bikin koin hebat apa cari cuan aja emang m...</td>\n",
       "      <td>POSITIF</td>\n",
       "    </tr>\n",
       "    <tr>\n",
       "      <th>4</th>\n",
       "      <td>semakin susah kirim idrt ke binancengga sepert...</td>\n",
       "      <td>NEGATIF</td>\n",
       "    </tr>\n",
       "  </tbody>\n",
       "</table>\n",
       "</div>"
      ],
      "text/plain": [
       "                                              ulasan    nilai\n",
       "0  good job buat pintu saya kasih  kembangkan ter...  POSITIF\n",
       "1  aplikasi ringan deposit dan wd banyak pilihan ...  POSITIF\n",
       "2  kenapa utk crypto solana tdk bisa dilakukan pe...  NEGATIF\n",
       "3  mau bikin koin hebat apa cari cuan aja emang m...  POSITIF\n",
       "4  semakin susah kirim idrt ke binancengga sepert...  NEGATIF"
      ]
     },
     "execution_count": 5,
     "metadata": {},
     "output_type": "execute_result"
    }
   ],
   "source": [
    "# fungsi casefolding untuk lowercase, removing number, removing punctuation, removing whitespace tujuannya untuk membersihkan data\n",
    "\n",
    "\n",
    "def casefolding(ulasan):\n",
    "  #Lowercase : untuk merubah format teks menjadi hurud kecil semua\n",
    "  ulasan = ulasan.lower()\n",
    "\n",
    "  #Removing Number : untuk menghapus karakter angka\n",
    "  ulasan = re.sub(\"\\d+\", \"\", ulasan)\n",
    "\n",
    "  #Removing Punctuation : untuk menghapus karakter tanda baca\n",
    "  ulasan = ulasan.translate(str.maketrans(\"\",\"\",string.punctuation))\n",
    "\n",
    "  #Removing Whitespace : untuk menghapus karakter kosong\n",
    "  ulasan = ulasan.strip()\n",
    "  \n",
    "  return ulasan\n",
    "\n",
    "dataset['ulasan']=dataset['ulasan'].apply(casefolding)\n",
    "dataset.head()"
   ]
  },
  {
   "cell_type": "code",
   "execution_count": 6,
   "metadata": {},
   "outputs": [
    {
     "name": "stderr",
     "output_type": "stream",
     "text": [
      "C:\\Users\\user\\AppData\\Local\\Temp/ipykernel_7412/3653429838.py:9: SettingWithCopyWarning: \n",
      "A value is trying to be set on a copy of a slice from a DataFrame.\n",
      "Try using .loc[row_indexer,col_indexer] = value instead\n",
      "\n",
      "See the caveats in the documentation: https://pandas.pydata.org/pandas-docs/stable/user_guide/indexing.html#returning-a-view-versus-a-copy\n",
      "  dataset['ulasan']=dataset['ulasan'].apply(tokenizing)\n"
     ]
    },
    {
     "data": {
      "text/html": [
       "<div>\n",
       "<style scoped>\n",
       "    .dataframe tbody tr th:only-of-type {\n",
       "        vertical-align: middle;\n",
       "    }\n",
       "\n",
       "    .dataframe tbody tr th {\n",
       "        vertical-align: top;\n",
       "    }\n",
       "\n",
       "    .dataframe thead th {\n",
       "        text-align: right;\n",
       "    }\n",
       "</style>\n",
       "<table border=\"1\" class=\"dataframe\">\n",
       "  <thead>\n",
       "    <tr style=\"text-align: right;\">\n",
       "      <th></th>\n",
       "      <th>ulasan</th>\n",
       "      <th>nilai</th>\n",
       "    </tr>\n",
       "  </thead>\n",
       "  <tbody>\n",
       "    <tr>\n",
       "      <th>0</th>\n",
       "      <td>[good, job, buat, pintu, saya, kasih, kembangk...</td>\n",
       "      <td>POSITIF</td>\n",
       "    </tr>\n",
       "    <tr>\n",
       "      <th>1</th>\n",
       "      <td>[aplikasi, ringan, deposit, dan, wd, banyak, p...</td>\n",
       "      <td>POSITIF</td>\n",
       "    </tr>\n",
       "    <tr>\n",
       "      <th>2</th>\n",
       "      <td>[kenapa, utk, crypto, solana, tdk, bisa, dilak...</td>\n",
       "      <td>NEGATIF</td>\n",
       "    </tr>\n",
       "    <tr>\n",
       "      <th>3</th>\n",
       "      <td>[mau, bikin, koin, hebat, apa, cari, cuan, aja...</td>\n",
       "      <td>POSITIF</td>\n",
       "    </tr>\n",
       "    <tr>\n",
       "      <th>4</th>\n",
       "      <td>[semakin, susah, kirim, idrt, ke, binancengga,...</td>\n",
       "      <td>NEGATIF</td>\n",
       "    </tr>\n",
       "  </tbody>\n",
       "</table>\n",
       "</div>"
      ],
      "text/plain": [
       "                                              ulasan    nilai\n",
       "0  [good, job, buat, pintu, saya, kasih, kembangk...  POSITIF\n",
       "1  [aplikasi, ringan, deposit, dan, wd, banyak, p...  POSITIF\n",
       "2  [kenapa, utk, crypto, solana, tdk, bisa, dilak...  NEGATIF\n",
       "3  [mau, bikin, koin, hebat, apa, cari, cuan, aja...  POSITIF\n",
       "4  [semakin, susah, kirim, idrt, ke, binancengga,...  NEGATIF"
      ]
     },
     "execution_count": 6,
     "metadata": {},
     "output_type": "execute_result"
    }
   ],
   "source": [
    "# Fungsi tokenizing untuk memisahkan kalimat menjadi perkata \n",
    "\n",
    "def tokenizing(ulasan):\n",
    "  # Untuk memisahkan perkata\n",
    "  ulasan = ulasan.split()\n",
    "\n",
    "  return ulasan \n",
    "\n",
    "dataset['ulasan']=dataset['ulasan'].apply(tokenizing)\n",
    "dataset.head()"
   ]
  },
  {
   "cell_type": "code",
   "execution_count": 7,
   "metadata": {},
   "outputs": [
    {
     "name": "stderr",
     "output_type": "stream",
     "text": [
      "C:\\Users\\user\\AppData\\Local\\Temp/ipykernel_7412/1484844878.py:17: SettingWithCopyWarning: \n",
      "A value is trying to be set on a copy of a slice from a DataFrame.\n",
      "Try using .loc[row_indexer,col_indexer] = value instead\n",
      "\n",
      "See the caveats in the documentation: https://pandas.pydata.org/pandas-docs/stable/user_guide/indexing.html#returning-a-view-versus-a-copy\n",
      "  dataset['ulasan']=dataset['ulasan'].apply(removed)\n"
     ]
    },
    {
     "data": {
      "text/html": [
       "<div>\n",
       "<style scoped>\n",
       "    .dataframe tbody tr th:only-of-type {\n",
       "        vertical-align: middle;\n",
       "    }\n",
       "\n",
       "    .dataframe tbody tr th {\n",
       "        vertical-align: top;\n",
       "    }\n",
       "\n",
       "    .dataframe thead th {\n",
       "        text-align: right;\n",
       "    }\n",
       "</style>\n",
       "<table border=\"1\" class=\"dataframe\">\n",
       "  <thead>\n",
       "    <tr style=\"text-align: right;\">\n",
       "      <th></th>\n",
       "      <th>ulasan</th>\n",
       "      <th>nilai</th>\n",
       "    </tr>\n",
       "  </thead>\n",
       "  <tbody>\n",
       "    <tr>\n",
       "      <th>0</th>\n",
       "      <td>[good, job, pintu, kasih, kembangkan, sukses]</td>\n",
       "      <td>POSITIF</td>\n",
       "    </tr>\n",
       "    <tr>\n",
       "      <th>1</th>\n",
       "      <td>[aplikasi, ringan, deposit, wd, pilihan, mudah...</td>\n",
       "      <td>POSITIF</td>\n",
       "    </tr>\n",
       "    <tr>\n",
       "      <th>2</th>\n",
       "      <td>[utk, crypto, solana, tdk, pembelian]</td>\n",
       "      <td>NEGATIF</td>\n",
       "    </tr>\n",
       "    <tr>\n",
       "      <th>3</th>\n",
       "      <td>[bikin, koin, hebat, cari, cuan, aja, emang, k...</td>\n",
       "      <td>POSITIF</td>\n",
       "    </tr>\n",
       "    <tr>\n",
       "      <th>4</th>\n",
       "      <td>[susah, kirim, idrt, binancengga]</td>\n",
       "      <td>NEGATIF</td>\n",
       "    </tr>\n",
       "  </tbody>\n",
       "</table>\n",
       "</div>"
      ],
      "text/plain": [
       "                                              ulasan    nilai\n",
       "0      [good, job, pintu, kasih, kembangkan, sukses]  POSITIF\n",
       "1  [aplikasi, ringan, deposit, wd, pilihan, mudah...  POSITIF\n",
       "2              [utk, crypto, solana, tdk, pembelian]  NEGATIF\n",
       "3  [bikin, koin, hebat, cari, cuan, aja, emang, k...  POSITIF\n",
       "4                  [susah, kirim, idrt, binancengga]  NEGATIF"
      ]
     },
     "execution_count": 7,
     "metadata": {},
     "output_type": "execute_result"
    }
   ],
   "source": [
    "# fungsi filtering untuk menghilangkan kata yang tidak penting\n",
    "\n",
    "def removed(ulasan):\n",
    "  filtering = stopwords.words('indonesian','english')\n",
    "  x = []\n",
    "  data = []\n",
    "  def myFungsi(x):\n",
    "    if x in filtering:\n",
    "      return False\n",
    "    else:\n",
    "      return True\n",
    "  fit = filter(myFungsi, ulasan)\n",
    "  for x in fit:\n",
    "    data.append(x)\n",
    "  return data\n",
    "\n",
    "dataset['ulasan']=dataset['ulasan'].apply(removed)\n",
    "dataset.head()\n"
   ]
  },
  {
   "cell_type": "code",
   "execution_count": 8,
   "metadata": {},
   "outputs": [
    {
     "name": "stderr",
     "output_type": "stream",
     "text": [
      "C:\\Users\\user\\AppData\\Local\\Temp/ipykernel_7412/2392305596.py:14: SettingWithCopyWarning: \n",
      "A value is trying to be set on a copy of a slice from a DataFrame.\n",
      "Try using .loc[row_indexer,col_indexer] = value instead\n",
      "\n",
      "See the caveats in the documentation: https://pandas.pydata.org/pandas-docs/stable/user_guide/indexing.html#returning-a-view-versus-a-copy\n",
      "  dataset['ulasan']=dataset['ulasan'].apply(stemming)\n"
     ]
    },
    {
     "data": {
      "text/html": [
       "<div>\n",
       "<style scoped>\n",
       "    .dataframe tbody tr th:only-of-type {\n",
       "        vertical-align: middle;\n",
       "    }\n",
       "\n",
       "    .dataframe tbody tr th {\n",
       "        vertical-align: top;\n",
       "    }\n",
       "\n",
       "    .dataframe thead th {\n",
       "        text-align: right;\n",
       "    }\n",
       "</style>\n",
       "<table border=\"1\" class=\"dataframe\">\n",
       "  <thead>\n",
       "    <tr style=\"text-align: right;\">\n",
       "      <th></th>\n",
       "      <th>ulasan</th>\n",
       "      <th>nilai</th>\n",
       "    </tr>\n",
       "  </thead>\n",
       "  <tbody>\n",
       "    <tr>\n",
       "      <th>0</th>\n",
       "      <td>good job pintu kasih kembang sukses</td>\n",
       "      <td>POSITIF</td>\n",
       "    </tr>\n",
       "    <tr>\n",
       "      <th>1</th>\n",
       "      <td>aplikasi ringan deposit wd pilih mudah ajar co...</td>\n",
       "      <td>POSITIF</td>\n",
       "    </tr>\n",
       "    <tr>\n",
       "      <th>2</th>\n",
       "      <td>utk crypto solana tdk beli</td>\n",
       "      <td>NEGATIF</td>\n",
       "    </tr>\n",
       "    <tr>\n",
       "      <th>3</th>\n",
       "      <td>bikin koin hebat cari cuan aja emang kaya bkin...</td>\n",
       "      <td>POSITIF</td>\n",
       "    </tr>\n",
       "    <tr>\n",
       "      <th>4</th>\n",
       "      <td>susah kirim idrt binancengga</td>\n",
       "      <td>NEGATIF</td>\n",
       "    </tr>\n",
       "  </tbody>\n",
       "</table>\n",
       "</div>"
      ],
      "text/plain": [
       "                                              ulasan    nilai\n",
       "0                good job pintu kasih kembang sukses  POSITIF\n",
       "1  aplikasi ringan deposit wd pilih mudah ajar co...  POSITIF\n",
       "2                         utk crypto solana tdk beli  NEGATIF\n",
       "3  bikin koin hebat cari cuan aja emang kaya bkin...  POSITIF\n",
       "4                       susah kirim idrt binancengga  NEGATIF"
      ]
     },
     "execution_count": 8,
     "metadata": {},
     "output_type": "execute_result"
    }
   ],
   "source": [
    "# fungsi stemming untuk merubah kata berimbuhan menjadi kata dasar\n",
    "\n",
    "def stemming(ulasan):\n",
    "  factory = StemmerFactory()\n",
    "  stemmer = factory.create_stemmer()\n",
    "  do = []\n",
    "  for x in ulasan:\n",
    "    dt = stemmer.stem(x)\n",
    "    do.append(dt)\n",
    "  data_clean = []\n",
    "  data_clean = \" \".join(do)\n",
    "  return data_clean\n",
    "\n",
    "dataset['ulasan']=dataset['ulasan'].apply(stemming)\n",
    "dataset.head()"
   ]
  },
  {
   "cell_type": "code",
   "execution_count": 10,
   "metadata": {},
   "outputs": [],
   "source": [
    "# Menyimpan dataset hasil proses preprocessing \n",
    "dataset.to_csv(\"../output/dataset-pintu-cleaning.csv\", index=False)"
   ]
  },
  {
   "cell_type": "markdown",
   "metadata": {},
   "source": [
    "##### Memisahkan Dataset \n"
   ]
  },
  {
   "cell_type": "code",
   "execution_count": 11,
   "metadata": {},
   "outputs": [],
   "source": [
    "# Import library pandes : Library python yang fokus pada analisis data seperti manipulasi data, persiapan data dan pembersihan data\n",
    "\n",
    "import pandas as pd"
   ]
  },
  {
   "cell_type": "code",
   "execution_count": 12,
   "metadata": {},
   "outputs": [
    {
     "data": {
      "text/html": [
       "<div>\n",
       "<style scoped>\n",
       "    .dataframe tbody tr th:only-of-type {\n",
       "        vertical-align: middle;\n",
       "    }\n",
       "\n",
       "    .dataframe tbody tr th {\n",
       "        vertical-align: top;\n",
       "    }\n",
       "\n",
       "    .dataframe thead th {\n",
       "        text-align: right;\n",
       "    }\n",
       "</style>\n",
       "<table border=\"1\" class=\"dataframe\">\n",
       "  <thead>\n",
       "    <tr style=\"text-align: right;\">\n",
       "      <th></th>\n",
       "      <th>ulasan</th>\n",
       "      <th>nilai</th>\n",
       "    </tr>\n",
       "  </thead>\n",
       "  <tbody>\n",
       "    <tr>\n",
       "      <th>0</th>\n",
       "      <td>good job pintu kasih kembang sukses</td>\n",
       "      <td>POSITIF</td>\n",
       "    </tr>\n",
       "    <tr>\n",
       "      <th>1</th>\n",
       "      <td>aplikasi ringan deposit wd pilih mudah ajar co...</td>\n",
       "      <td>POSITIF</td>\n",
       "    </tr>\n",
       "    <tr>\n",
       "      <th>2</th>\n",
       "      <td>utk crypto solana tdk beli</td>\n",
       "      <td>NEGATIF</td>\n",
       "    </tr>\n",
       "    <tr>\n",
       "      <th>3</th>\n",
       "      <td>bikin koin hebat cari cuan aja emang kaya bkin...</td>\n",
       "      <td>POSITIF</td>\n",
       "    </tr>\n",
       "    <tr>\n",
       "      <th>4</th>\n",
       "      <td>susah kirim idrt binancengga</td>\n",
       "      <td>NEGATIF</td>\n",
       "    </tr>\n",
       "  </tbody>\n",
       "</table>\n",
       "</div>"
      ],
      "text/plain": [
       "                                              ulasan    nilai\n",
       "0                good job pintu kasih kembang sukses  POSITIF\n",
       "1  aplikasi ringan deposit wd pilih mudah ajar co...  POSITIF\n",
       "2                         utk crypto solana tdk beli  NEGATIF\n",
       "3  bikin koin hebat cari cuan aja emang kaya bkin...  POSITIF\n",
       "4                       susah kirim idrt binancengga  NEGATIF"
      ]
     },
     "execution_count": 12,
     "metadata": {},
     "output_type": "execute_result"
    }
   ],
   "source": [
    "# Lokasi dataset yang sudah bersih \n",
    "# Membaca dataset\n",
    "\n",
    "data_path=(\"../output/dataset-pintu-cleaning.csv\")\n",
    "read_data=pd.read_csv(data_path)\n",
    "read_data.head()"
   ]
  },
  {
   "cell_type": "code",
   "execution_count": 13,
   "metadata": {},
   "outputs": [
    {
     "data": {
      "text/plain": [
       "ulasan      string\n",
       "nilai     category\n",
       "dtype: object"
      ]
     },
     "execution_count": 13,
     "metadata": {},
     "output_type": "execute_result"
    }
   ],
   "source": [
    "# Merubah typedata pada variabel agar selanjutnya dapat melakukan proses TF-IDF\n",
    "\n",
    "read_data = read_data.astype({'ulasan':'string'})\n",
    "read_data = read_data.astype({'nilai':'category'})\n",
    "read_data.dtypes"
   ]
  },
  {
   "cell_type": "code",
   "execution_count": 14,
   "metadata": {},
   "outputs": [
    {
     "data": {
      "text/plain": [
       "<1000x1940 sparse matrix of type '<class 'numpy.float64'>'\n",
       "\twith 6162 stored elements in Compressed Sparse Row format>"
      ]
     },
     "execution_count": 14,
     "metadata": {},
     "output_type": "execute_result"
    }
   ],
   "source": [
    "# Melakukan proses TF-IDF\n",
    "\n",
    "from sklearn.feature_extraction.text import CountVectorizer\n",
    "from sklearn.feature_extraction.text import TfidfVectorizer\n",
    "\n",
    "tfIdf=TfidfVectorizer()\n",
    "text_tfIdf = tfIdf.fit_transform(read_data['ulasan'].astype('U'))\n",
    "text_tfIdf"
   ]
  },
  {
   "cell_type": "code",
   "execution_count": 15,
   "metadata": {},
   "outputs": [],
   "source": [
    "# Memisahkan dataset menjadi data training (70%) dan data testing (30%)\n",
    "# random state = 42, maka berapa kali mengeksekusi kode hasilnya akan sama \n",
    "\n",
    "from sklearn.model_selection import train_test_split\n",
    "x_train, x_test, y_train, y_test = train_test_split(text_tfIdf, read_data['nilai'], test_size=0.7, random_state=42)"
   ]
  },
  {
   "cell_type": "markdown",
   "metadata": {},
   "source": [
    "##### Algoritma Naive Bayes"
   ]
  },
  {
   "cell_type": "code",
   "execution_count": 16,
   "metadata": {},
   "outputs": [
    {
     "name": "stdout",
     "output_type": "stream",
     "text": [
      "Accurancy :  0.7342857142857143\n",
      "Precision :  0.92\n",
      "Recall :  0.1111111111111111\n",
      "F1 :  0.1982758620689655\n",
      "confusion_matrix:\n",
      " [[ 23 184]\n",
      " [  2 491]]\n"
     ]
    }
   ],
   "source": [
    "from sklearn.naive_bayes import MultinomialNB\n",
    "from sklearn.metrics import accuracy_score, precision_score, recall_score, f1_score\n",
    "from sklearn.metrics import confusion_matrix\n",
    "\n",
    "clf = MultinomialNB().fit(x_train, y_train)\n",
    "prediksi = clf.predict(x_test)\n",
    "print(\"Accurancy : \", accuracy_score(y_test, prediksi))\n",
    "print(\"Precision : \", precision_score(y_test, prediksi, average=\"binary\", pos_label=\"NEGATIF\"))\n",
    "print(\"Recall : \", recall_score(y_test, prediksi, average=\"binary\", pos_label=\"NEGATIF\"))\n",
    "print(\"F1 : \", f1_score(y_test, prediksi, average=\"binary\", pos_label=\"NEGATIF\"))\n",
    "\n",
    "print(f'confusion_matrix:\\n {confusion_matrix(y_test, prediksi)}')"
   ]
  }
 ],
 "metadata": {
  "interpreter": {
   "hash": "6d46af94c2bbce495f1e668725902fa517c90b1782bcfe2fce0dd9868df553d3"
  },
  "kernelspec": {
   "display_name": "Python 3.9.7 64-bit ('base': conda)",
   "language": "python",
   "name": "python3"
  },
  "language_info": {
   "codemirror_mode": {
    "name": "ipython",
    "version": 3
   },
   "file_extension": ".py",
   "mimetype": "text/x-python",
   "name": "python",
   "nbconvert_exporter": "python",
   "pygments_lexer": "ipython3",
   "version": "3.9.7"
  },
  "orig_nbformat": 4
 },
 "nbformat": 4,
 "nbformat_minor": 2
}
