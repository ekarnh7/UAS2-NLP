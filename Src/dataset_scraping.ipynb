{
 "cells": [
  {
   "cell_type": "markdown",
   "metadata": {},
   "source": [
    "# Scraping Dataset Aplikasi PINTU\n",
    "\n",
    "Scraping merupakan proses mengumpulkan informasi dari internet, pada studi kasus ini kami mengambil data Aplikasi PINTU pada play store"
   ]
  },
  {
   "cell_type": "code",
   "execution_count": null,
   "metadata": {},
   "outputs": [],
   "source": [
    "# Install library google-play-scrapper : Untuk mendapatkan dataset pada aplikasi google play store \n",
    "# Install library numpy : Libarary python yang fokus pada scientific computing \n",
    "# Install library pandas : Library python yang fokus pada analisis data seperti manipulasi data, persiapan data dan pembersihan data\n",
    "\n",
    "%pip install google-play-scraper\n",
    "%pip install numpy\n",
    "%pip install pandas"
   ]
  },
  {
   "cell_type": "code",
   "execution_count": 9,
   "metadata": {},
   "outputs": [],
   "source": [
    "# Import pandes, numpy dan app (google-play-scraper)\n",
    "\n",
    "from google_play_scraper import app\n",
    "import numpy as np\n",
    "import pandas as pd"
   ]
  },
  {
   "cell_type": "code",
   "execution_count": 14,
   "metadata": {},
   "outputs": [],
   "source": [
    "# Menentukan jumlah dataset yang dibutuhkan/diinginkan serta diurutkan berdasarkan ulasan terbaru pada aplikasi PINTU\n",
    "\n",
    "from google_play_scraper import Sort, reviews\n",
    "\n",
    "result, continuation_token=reviews(\n",
    "    'com.valar.pintu',\n",
    "    lang='id',\n",
    "    country='id',\n",
    "    sort=Sort.NEWEST,\n",
    "    count=1000,\n",
    "    filter_score_with=None\n",
    ")"
   ]
  },
  {
   "cell_type": "code",
   "execution_count": null,
   "metadata": {},
   "outputs": [],
   "source": [
    "# Menampilkan data frame dari ulasan aplikasi PINTU \n",
    "\n",
    "df_pintu=pd.DataFrame(np.array(result), columns=['ulasan'])\n",
    "df_pintu=df_pintu.join(pd.DataFrame(df_pintu.pop('ulasan').tolist()))\n",
    "df_pintu.head()"
   ]
  },
  {
   "cell_type": "code",
   "execution_count": 31,
   "metadata": {},
   "outputs": [
    {
     "data": {
      "text/plain": [
       "1000"
      ]
     },
     "execution_count": 31,
     "metadata": {},
     "output_type": "execute_result"
    }
   ],
   "source": [
    "# Memastikan jumlah dataset hasil scraping\n",
    "\n",
    "len(df_pintu.index)"
   ]
  },
  {
   "cell_type": "code",
   "execution_count": 32,
   "metadata": {},
   "outputs": [
    {
     "data": {
      "text/html": [
       "<div>\n",
       "<style scoped>\n",
       "    .dataframe tbody tr th:only-of-type {\n",
       "        vertical-align: middle;\n",
       "    }\n",
       "\n",
       "    .dataframe tbody tr th {\n",
       "        vertical-align: top;\n",
       "    }\n",
       "\n",
       "    .dataframe thead th {\n",
       "        text-align: right;\n",
       "    }\n",
       "</style>\n",
       "<table border=\"1\" class=\"dataframe\">\n",
       "  <thead>\n",
       "    <tr style=\"text-align: right;\">\n",
       "      <th></th>\n",
       "      <th>score</th>\n",
       "      <th>content</th>\n",
       "    </tr>\n",
       "  </thead>\n",
       "  <tbody>\n",
       "    <tr>\n",
       "      <th>0</th>\n",
       "      <td>5</td>\n",
       "      <td>Good</td>\n",
       "    </tr>\n",
       "    <tr>\n",
       "      <th>1</th>\n",
       "      <td>5</td>\n",
       "      <td>Mantap pokoknya</td>\n",
       "    </tr>\n",
       "    <tr>\n",
       "      <th>2</th>\n",
       "      <td>5</td>\n",
       "      <td>Pelajari dulu ya, kalau tidak bisa saya lakuka...</td>\n",
       "    </tr>\n",
       "    <tr>\n",
       "      <th>3</th>\n",
       "      <td>5</td>\n",
       "      <td>Sangat cepat diverifikasi ID-nya</td>\n",
       "    </tr>\n",
       "    <tr>\n",
       "      <th>4</th>\n",
       "      <td>5</td>\n",
       "      <td>Bagus tolong dong juga katanya sebelumnya sy d...</td>\n",
       "    </tr>\n",
       "  </tbody>\n",
       "</table>\n",
       "</div>"
      ],
      "text/plain": [
       "   score                                            content\n",
       "0      5                                               Good\n",
       "1      5                                    Mantap pokoknya\n",
       "2      5  Pelajari dulu ya, kalau tidak bisa saya lakuka...\n",
       "3      5                   Sangat cepat diverifikasi ID-nya\n",
       "4      5  Bagus tolong dong juga katanya sebelumnya sy d..."
      ]
     },
     "execution_count": 32,
     "metadata": {},
     "output_type": "execute_result"
    }
   ],
   "source": [
    "# Memfilter variabel yang akan digunakan, pada studi kasus ini menggunakan variabel score dan content\n",
    "\n",
    "df_pintu[['score','content']].head()"
   ]
  },
  {
   "cell_type": "code",
   "execution_count": 30,
   "metadata": {},
   "outputs": [],
   "source": [
    "# Menyimpan dataset pada file csv dengan variabel content dan score\n",
    "\n",
    "df_pintu.to_csv(\"../data/dataset-pintu-scraping.csv\", index=False)"
   ]
  },
  {
   "cell_type": "markdown",
   "metadata": {},
   "source": [
    "##### Lokasi Penyimpanan Scraping Dataset Aplikasi PINTU"
   ]
  },
  {
   "cell_type": "code",
   "execution_count": 34,
   "metadata": {},
   "outputs": [],
   "source": [
    "PATH = (\"../dataset/dataset-pintu-scraping.csv\")"
   ]
  }
 ],
 "metadata": {
  "interpreter": {
   "hash": "f4fde45515710cbe4f4cf44a8ddef1b298277709bd6c5462499553af68a98f2e"
  },
  "kernelspec": {
   "display_name": "Python 3.10.1 64-bit",
   "language": "python",
   "name": "python3"
  },
  "language_info": {
   "codemirror_mode": {
    "name": "ipython",
    "version": 3
   },
   "file_extension": ".py",
   "mimetype": "text/x-python",
   "name": "python",
   "nbconvert_exporter": "python",
   "pygments_lexer": "ipython3",
   "version": "3.10.1"
  },
  "orig_nbformat": 4
 },
 "nbformat": 4,
 "nbformat_minor": 2
}
