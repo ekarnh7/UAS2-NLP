{
  "nbformat": 4,
  "nbformat_minor": 0,
  "metadata": {
    "colab": {
      "name": "Notebooks_UAS2.ipynb",
      "provenance": [],
      "collapsed_sections": []
    },
    "kernelspec": {
      "display_name": "Python 3",
      "name": "python3"
    },
    "language_info": {
      "name": "python"
    }
  },
  "cells": [
    {
      "cell_type": "markdown",
      "metadata": {
        "id": "sybEGtnKfTc_"
      },
      "source": [
        "Install Library"
      ]
    },
    {
      "cell_type": "code",
      "metadata": {
        "colab": {
          "base_uri": "https://localhost:8080/"
        },
        "id": "I3HE1WWNHPOB",
        "outputId": "9d0921fb-e75c-42c7-e966-1ebfb7a0aed8"
      },
      "source": [
        "!pip install google-play-scraper"
      ],
      "execution_count": 1,
      "outputs": [
        {
          "output_type": "stream",
          "name": "stdout",
          "text": [
            "Collecting google-play-scraper\n",
            "  Downloading google-play-scraper-1.0.2.tar.gz (52 kB)\n",
            "\u001b[?25l\r\u001b[K     |██████▏                         | 10 kB 20.8 MB/s eta 0:00:01\r\u001b[K     |████████████▍                   | 20 kB 25.9 MB/s eta 0:00:01\r\u001b[K     |██████████████████▋             | 30 kB 12.3 MB/s eta 0:00:01\r\u001b[K     |████████████████████████▉       | 40 kB 9.8 MB/s eta 0:00:01\r\u001b[K     |███████████████████████████████ | 51 kB 5.4 MB/s eta 0:00:01\r\u001b[K     |████████████████████████████████| 52 kB 1.3 MB/s \n",
            "\u001b[?25hBuilding wheels for collected packages: google-play-scraper\n",
            "  Building wheel for google-play-scraper (setup.py) ... \u001b[?25l\u001b[?25hdone\n",
            "  Created wheel for google-play-scraper: filename=google_play_scraper-1.0.2-py3-none-any.whl size=24393 sha256=8a740cf9cc0b0784a90a4649945170522b95da8bee7b59e19f06a56a54cd13a4\n",
            "  Stored in directory: /root/.cache/pip/wheels/98/99/eb/bbb9d24a5c526980647efc10336eaaeffcf07749f581111128\n",
            "Successfully built google-play-scraper\n",
            "Installing collected packages: google-play-scraper\n",
            "Successfully installed google-play-scraper-1.0.2\n"
          ]
        }
      ]
    },
    {
      "cell_type": "code",
      "metadata": {
        "id": "XbuScAi3HdDB"
      },
      "source": [
        "from google_play_scraper import app\n",
        "import pandas as pd\n",
        "import numpy as np"
      ],
      "execution_count": 2,
      "outputs": []
    },
    {
      "cell_type": "markdown",
      "metadata": {
        "id": "qqmw3zBHHsOw"
      },
      "source": [
        "Scrape dengan menentukan jumlah ulasan"
      ]
    },
    {
      "cell_type": "code",
      "metadata": {
        "id": "uULsLNoQH5n6"
      },
      "source": [
        "from google_play_scraper import Sort, reviews\n",
        "\n",
        "result, continuation_token=reviews(\n",
        "    'com.valar.pintu',\n",
        "    lang='id',\n",
        "    country='id',\n",
        "    sort=Sort.NEWEST,\n",
        "    count=1000,\n",
        "    filter_score_with=None\n",
        ")"
      ],
      "execution_count": 3,
      "outputs": []
    },
    {
      "cell_type": "code",
      "metadata": {
        "colab": {
          "base_uri": "https://localhost:8080/",
          "height": 521
        },
        "id": "8sar2GRRI5tl",
        "outputId": "0f1f4c19-8806-4ab7-c875-8c82c42e4b26"
      },
      "source": [
        "df_pintu=pd.DataFrame(np.array(result), columns=['ulasan'])\n",
        "df_pintu=df_pintu.join(pd.DataFrame(df_pintu.pop('ulasan').tolist()))\n",
        "df_pintu.head()"
      ],
      "execution_count": 4,
      "outputs": [
        {
          "output_type": "execute_result",
          "data": {
            "text/html": [
              "<div>\n",
              "<style scoped>\n",
              "    .dataframe tbody tr th:only-of-type {\n",
              "        vertical-align: middle;\n",
              "    }\n",
              "\n",
              "    .dataframe tbody tr th {\n",
              "        vertical-align: top;\n",
              "    }\n",
              "\n",
              "    .dataframe thead th {\n",
              "        text-align: right;\n",
              "    }\n",
              "</style>\n",
              "<table border=\"1\" class=\"dataframe\">\n",
              "  <thead>\n",
              "    <tr style=\"text-align: right;\">\n",
              "      <th></th>\n",
              "      <th>reviewId</th>\n",
              "      <th>userName</th>\n",
              "      <th>userImage</th>\n",
              "      <th>content</th>\n",
              "      <th>score</th>\n",
              "      <th>thumbsUpCount</th>\n",
              "      <th>reviewCreatedVersion</th>\n",
              "      <th>at</th>\n",
              "      <th>replyContent</th>\n",
              "      <th>repliedAt</th>\n",
              "    </tr>\n",
              "  </thead>\n",
              "  <tbody>\n",
              "    <tr>\n",
              "      <th>0</th>\n",
              "      <td>gp:AOqpTOEmq-ogDR9fJ30359diWdfJU_OABUt0WMS9_WU...</td>\n",
              "      <td>yudi supandi</td>\n",
              "      <td>https://play-lh.googleusercontent.com/a-/AOh14...</td>\n",
              "      <td>Ok</td>\n",
              "      <td>3</td>\n",
              "      <td>0</td>\n",
              "      <td>3.8.3</td>\n",
              "      <td>2021-12-09 02:19:23</td>\n",
              "      <td>None</td>\n",
              "      <td>NaT</td>\n",
              "    </tr>\n",
              "    <tr>\n",
              "      <th>1</th>\n",
              "      <td>gp:AOqpTOEqdhtBXF2mWaC502XFCfJLBeFs2W0yCsLipPZ...</td>\n",
              "      <td>sakti Indra yudha</td>\n",
              "      <td>https://play-lh.googleusercontent.com/a/AATXAJ...</td>\n",
              "      <td>Udah kapok, cukup tau aja dah, pas beli dibiki...</td>\n",
              "      <td>1</td>\n",
              "      <td>2</td>\n",
              "      <td>None</td>\n",
              "      <td>2021-12-09 01:48:03</td>\n",
              "      <td>None</td>\n",
              "      <td>NaT</td>\n",
              "    </tr>\n",
              "    <tr>\n",
              "      <th>2</th>\n",
              "      <td>gp:AOqpTOFUgXvcDaoXimXpUapvLJKPHuq97A46MXuIUDi...</td>\n",
              "      <td>Hady Rizky</td>\n",
              "      <td>https://play-lh.googleusercontent.com/a/AATXAJ...</td>\n",
              "      <td>Mantul</td>\n",
              "      <td>5</td>\n",
              "      <td>0</td>\n",
              "      <td>3.8.3</td>\n",
              "      <td>2021-12-09 01:42:14</td>\n",
              "      <td>None</td>\n",
              "      <td>NaT</td>\n",
              "    </tr>\n",
              "    <tr>\n",
              "      <th>3</th>\n",
              "      <td>gp:AOqpTOEhICmiu9Jg96eXppM8phOfhslku7cDJF9yrO7...</td>\n",
              "      <td>Koleksi Terbaru</td>\n",
              "      <td>https://play-lh.googleusercontent.com/a-/AOh14...</td>\n",
              "      <td>Trading atau jual beli koin mnurut ku lebih ny...</td>\n",
              "      <td>1</td>\n",
              "      <td>0</td>\n",
              "      <td>None</td>\n",
              "      <td>2021-12-09 00:49:01</td>\n",
              "      <td>None</td>\n",
              "      <td>NaT</td>\n",
              "    </tr>\n",
              "    <tr>\n",
              "      <th>4</th>\n",
              "      <td>gp:AOqpTOFx-74QTwdYW0axyAU9IOvrQhygfVl1WK27qsI...</td>\n",
              "      <td>Gilang Ramadhan</td>\n",
              "      <td>https://play-lh.googleusercontent.com/a/AATXAJ...</td>\n",
              "      <td>Banyak potongan</td>\n",
              "      <td>4</td>\n",
              "      <td>0</td>\n",
              "      <td>3.7.1</td>\n",
              "      <td>2021-12-09 00:44:08</td>\n",
              "      <td>None</td>\n",
              "      <td>NaT</td>\n",
              "    </tr>\n",
              "  </tbody>\n",
              "</table>\n",
              "</div>"
            ],
            "text/plain": [
              "                                            reviewId  ... repliedAt\n",
              "0  gp:AOqpTOEmq-ogDR9fJ30359diWdfJU_OABUt0WMS9_WU...  ...       NaT\n",
              "1  gp:AOqpTOEqdhtBXF2mWaC502XFCfJLBeFs2W0yCsLipPZ...  ...       NaT\n",
              "2  gp:AOqpTOFUgXvcDaoXimXpUapvLJKPHuq97A46MXuIUDi...  ...       NaT\n",
              "3  gp:AOqpTOEhICmiu9Jg96eXppM8phOfhslku7cDJF9yrO7...  ...       NaT\n",
              "4  gp:AOqpTOFx-74QTwdYW0axyAU9IOvrQhygfVl1WK27qsI...  ...       NaT\n",
              "\n",
              "[5 rows x 10 columns]"
            ]
          },
          "metadata": {},
          "execution_count": 4
        }
      ]
    },
    {
      "cell_type": "code",
      "metadata": {
        "colab": {
          "base_uri": "https://localhost:8080/"
        },
        "id": "MknSzgloJtH9",
        "outputId": "1c7272c9-421d-431b-f9e5-e35c5f588765"
      },
      "source": [
        "len(df_pintu.index)"
      ],
      "execution_count": 5,
      "outputs": [
        {
          "output_type": "execute_result",
          "data": {
            "text/plain": [
              "1000"
            ]
          },
          "metadata": {},
          "execution_count": 5
        }
      ]
    },
    {
      "cell_type": "code",
      "metadata": {
        "colab": {
          "base_uri": "https://localhost:8080/",
          "height": 206
        },
        "id": "G8pvci5TJzWO",
        "outputId": "8751dd1c-95ea-4ddd-947b-5e2dc7f13ba3"
      },
      "source": [
        "df_pintu[['at','userName','score','content']].head()"
      ],
      "execution_count": 6,
      "outputs": [
        {
          "output_type": "execute_result",
          "data": {
            "text/html": [
              "<div>\n",
              "<style scoped>\n",
              "    .dataframe tbody tr th:only-of-type {\n",
              "        vertical-align: middle;\n",
              "    }\n",
              "\n",
              "    .dataframe tbody tr th {\n",
              "        vertical-align: top;\n",
              "    }\n",
              "\n",
              "    .dataframe thead th {\n",
              "        text-align: right;\n",
              "    }\n",
              "</style>\n",
              "<table border=\"1\" class=\"dataframe\">\n",
              "  <thead>\n",
              "    <tr style=\"text-align: right;\">\n",
              "      <th></th>\n",
              "      <th>at</th>\n",
              "      <th>userName</th>\n",
              "      <th>score</th>\n",
              "      <th>content</th>\n",
              "    </tr>\n",
              "  </thead>\n",
              "  <tbody>\n",
              "    <tr>\n",
              "      <th>0</th>\n",
              "      <td>2021-12-09 02:19:23</td>\n",
              "      <td>yudi supandi</td>\n",
              "      <td>3</td>\n",
              "      <td>Ok</td>\n",
              "    </tr>\n",
              "    <tr>\n",
              "      <th>1</th>\n",
              "      <td>2021-12-09 01:48:03</td>\n",
              "      <td>sakti Indra yudha</td>\n",
              "      <td>1</td>\n",
              "      <td>Udah kapok, cukup tau aja dah, pas beli dibiki...</td>\n",
              "    </tr>\n",
              "    <tr>\n",
              "      <th>2</th>\n",
              "      <td>2021-12-09 01:42:14</td>\n",
              "      <td>Hady Rizky</td>\n",
              "      <td>5</td>\n",
              "      <td>Mantul</td>\n",
              "    </tr>\n",
              "    <tr>\n",
              "      <th>3</th>\n",
              "      <td>2021-12-09 00:49:01</td>\n",
              "      <td>Koleksi Terbaru</td>\n",
              "      <td>1</td>\n",
              "      <td>Trading atau jual beli koin mnurut ku lebih ny...</td>\n",
              "    </tr>\n",
              "    <tr>\n",
              "      <th>4</th>\n",
              "      <td>2021-12-09 00:44:08</td>\n",
              "      <td>Gilang Ramadhan</td>\n",
              "      <td>4</td>\n",
              "      <td>Banyak potongan</td>\n",
              "    </tr>\n",
              "  </tbody>\n",
              "</table>\n",
              "</div>"
            ],
            "text/plain": [
              "                   at  ...                                            content\n",
              "0 2021-12-09 02:19:23  ...                                                 Ok\n",
              "1 2021-12-09 01:48:03  ...  Udah kapok, cukup tau aja dah, pas beli dibiki...\n",
              "2 2021-12-09 01:42:14  ...                                             Mantul\n",
              "3 2021-12-09 00:49:01  ...  Trading atau jual beli koin mnurut ku lebih ny...\n",
              "4 2021-12-09 00:44:08  ...                                    Banyak potongan\n",
              "\n",
              "[5 rows x 4 columns]"
            ]
          },
          "metadata": {},
          "execution_count": 6
        }
      ]
    },
    {
      "cell_type": "markdown",
      "metadata": {
        "id": "AQAhaYoUKemM"
      },
      "source": [
        "Menyimpan data pada variabel dengan filter at, username, score, content"
      ]
    },
    {
      "cell_type": "code",
      "metadata": {
        "id": "7ygg-vO6KhWq"
      },
      "source": [
        "df_pintu_v1=df_pintu[['at','userName','content','score']]"
      ],
      "execution_count": null,
      "outputs": []
    },
    {
      "cell_type": "code",
      "metadata": {
        "id": "DWoHIOxzLHGk"
      },
      "source": [
        "df_pintu_v1.to_csv(\"Dataset-Pintu-v1-Scrapped.csv\", index=False)"
      ],
      "execution_count": null,
      "outputs": []
    },
    {
      "cell_type": "markdown",
      "metadata": {
        "id": "xUPvqKzrL3mQ"
      },
      "source": [
        "Menyimpan data pada variabel dengan filter content dan score"
      ]
    },
    {
      "cell_type": "code",
      "metadata": {
        "id": "LeOYxiqnME-o"
      },
      "source": [
        "df_pintu_v2=df_pintu[['content','score']]"
      ],
      "execution_count": null,
      "outputs": []
    },
    {
      "cell_type": "code",
      "metadata": {
        "id": "M1gdPjy_MMJw"
      },
      "source": [
        "df_pintu_v2.to_csv(\"Dataset-Pintu-v2-Scrapped.csv\", index=False)"
      ],
      "execution_count": null,
      "outputs": []
    },
    {
      "cell_type": "markdown",
      "metadata": {
        "id": "DP-eR5ur4nFG"
      },
      "source": [
        "#PREPROCESSING\n",
        "\n",
        "---\n",
        "\n"
      ]
    },
    {
      "cell_type": "markdown",
      "metadata": {
        "id": "m48x8SCn5tRW"
      },
      "source": [
        "Import Library"
      ]
    },
    {
      "cell_type": "code",
      "metadata": {
        "id": "-C19dWjl4tXH"
      },
      "source": [
        "import string \n",
        "from sklearn.pipeline import Pipeline\n",
        "import pandas as pd\n",
        "import numpy as np"
      ],
      "execution_count": 7,
      "outputs": []
    },
    {
      "cell_type": "markdown",
      "metadata": {
        "id": "Y5kEcmVW5wWP"
      },
      "source": [
        "Import Dataset"
      ]
    },
    {
      "cell_type": "code",
      "metadata": {
        "colab": {
          "base_uri": "https://localhost:8080/",
          "height": 206
        },
        "id": "LbbGQO5U5y0R",
        "outputId": "cbbf0d06-cd44-432a-bcf1-bc4f06adc644"
      },
      "source": [
        "data=pd.read_csv('/content/Dataset-Pintu-Labeling.csv', sep=',', encoding='utf-8')\n",
        "data.head()"
      ],
      "execution_count": 8,
      "outputs": [
        {
          "output_type": "execute_result",
          "data": {
            "text/html": [
              "<div>\n",
              "<style scoped>\n",
              "    .dataframe tbody tr th:only-of-type {\n",
              "        vertical-align: middle;\n",
              "    }\n",
              "\n",
              "    .dataframe tbody tr th {\n",
              "        vertical-align: top;\n",
              "    }\n",
              "\n",
              "    .dataframe thead th {\n",
              "        text-align: right;\n",
              "    }\n",
              "</style>\n",
              "<table border=\"1\" class=\"dataframe\">\n",
              "  <thead>\n",
              "    <tr style=\"text-align: right;\">\n",
              "      <th></th>\n",
              "      <th>ulasan</th>\n",
              "      <th>rating</th>\n",
              "      <th>nilai</th>\n",
              "    </tr>\n",
              "  </thead>\n",
              "  <tbody>\n",
              "    <tr>\n",
              "      <th>0</th>\n",
              "      <td>Good job buat pintu saya kasih 5 ..kembangkan ...</td>\n",
              "      <td>5</td>\n",
              "      <td>POSITIF</td>\n",
              "    </tr>\n",
              "    <tr>\n",
              "      <th>1</th>\n",
              "      <td>Aplikasi ringan, deposit dan wd banyak pilihan...</td>\n",
              "      <td>5</td>\n",
              "      <td>POSITIF</td>\n",
              "    </tr>\n",
              "    <tr>\n",
              "      <th>2</th>\n",
              "      <td>Kenapa utk Crypto Solana tdk bisa dilakukan pe...</td>\n",
              "      <td>3</td>\n",
              "      <td>NEGATIF</td>\n",
              "    </tr>\n",
              "    <tr>\n",
              "      <th>3</th>\n",
              "      <td>Mau bikin koin hebat, apa cari cuan aja, emang...</td>\n",
              "      <td>4</td>\n",
              "      <td>POSITIF</td>\n",
              "    </tr>\n",
              "    <tr>\n",
              "      <th>4</th>\n",
              "      <td>Semakin susah kirim idrt ke binance,ngga seper...</td>\n",
              "      <td>3</td>\n",
              "      <td>NEGATIF</td>\n",
              "    </tr>\n",
              "  </tbody>\n",
              "</table>\n",
              "</div>"
            ],
            "text/plain": [
              "                                              ulasan  rating    nilai\n",
              "0  Good job buat pintu saya kasih 5 ..kembangkan ...       5  POSITIF\n",
              "1  Aplikasi ringan, deposit dan wd banyak pilihan...       5  POSITIF\n",
              "2  Kenapa utk Crypto Solana tdk bisa dilakukan pe...       3  NEGATIF\n",
              "3  Mau bikin koin hebat, apa cari cuan aja, emang...       4  POSITIF\n",
              "4  Semakin susah kirim idrt ke binance,ngga seper...       3  NEGATIF"
            ]
          },
          "metadata": {},
          "execution_count": 8
        }
      ]
    },
    {
      "cell_type": "code",
      "metadata": {
        "colab": {
          "base_uri": "https://localhost:8080/",
          "height": 206
        },
        "id": "_MKuiP8N8G81",
        "outputId": "c4766ac6-d24b-4262-f9df-fba254c306f1"
      },
      "source": [
        "data_fix=data[['ulasan','nilai']]\n",
        "data_fix.head()"
      ],
      "execution_count": 9,
      "outputs": [
        {
          "output_type": "execute_result",
          "data": {
            "text/html": [
              "<div>\n",
              "<style scoped>\n",
              "    .dataframe tbody tr th:only-of-type {\n",
              "        vertical-align: middle;\n",
              "    }\n",
              "\n",
              "    .dataframe tbody tr th {\n",
              "        vertical-align: top;\n",
              "    }\n",
              "\n",
              "    .dataframe thead th {\n",
              "        text-align: right;\n",
              "    }\n",
              "</style>\n",
              "<table border=\"1\" class=\"dataframe\">\n",
              "  <thead>\n",
              "    <tr style=\"text-align: right;\">\n",
              "      <th></th>\n",
              "      <th>ulasan</th>\n",
              "      <th>nilai</th>\n",
              "    </tr>\n",
              "  </thead>\n",
              "  <tbody>\n",
              "    <tr>\n",
              "      <th>0</th>\n",
              "      <td>Good job buat pintu saya kasih 5 ..kembangkan ...</td>\n",
              "      <td>POSITIF</td>\n",
              "    </tr>\n",
              "    <tr>\n",
              "      <th>1</th>\n",
              "      <td>Aplikasi ringan, deposit dan wd banyak pilihan...</td>\n",
              "      <td>POSITIF</td>\n",
              "    </tr>\n",
              "    <tr>\n",
              "      <th>2</th>\n",
              "      <td>Kenapa utk Crypto Solana tdk bisa dilakukan pe...</td>\n",
              "      <td>NEGATIF</td>\n",
              "    </tr>\n",
              "    <tr>\n",
              "      <th>3</th>\n",
              "      <td>Mau bikin koin hebat, apa cari cuan aja, emang...</td>\n",
              "      <td>POSITIF</td>\n",
              "    </tr>\n",
              "    <tr>\n",
              "      <th>4</th>\n",
              "      <td>Semakin susah kirim idrt ke binance,ngga seper...</td>\n",
              "      <td>NEGATIF</td>\n",
              "    </tr>\n",
              "  </tbody>\n",
              "</table>\n",
              "</div>"
            ],
            "text/plain": [
              "                                              ulasan    nilai\n",
              "0  Good job buat pintu saya kasih 5 ..kembangkan ...  POSITIF\n",
              "1  Aplikasi ringan, deposit dan wd banyak pilihan...  POSITIF\n",
              "2  Kenapa utk Crypto Solana tdk bisa dilakukan pe...  NEGATIF\n",
              "3  Mau bikin koin hebat, apa cari cuan aja, emang...  POSITIF\n",
              "4  Semakin susah kirim idrt ke binance,ngga seper...  NEGATIF"
            ]
          },
          "metadata": {},
          "execution_count": 9
        }
      ]
    },
    {
      "cell_type": "markdown",
      "metadata": {
        "id": "9YHs8Mnt9BkX"
      },
      "source": [
        "Preprocessing - Case Folding "
      ]
    },
    {
      "cell_type": "code",
      "metadata": {
        "colab": {
          "base_uri": "https://localhost:8080/",
          "height": 293
        },
        "id": "VyeMSWroiuU-",
        "outputId": "b643f6dc-e9b8-4fc4-c6fa-e7541ebb2448"
      },
      "source": [
        "import re\n",
        "import string\n",
        "\n",
        "def casefolding(ulasan):\n",
        "  #Lowercase : untuk merubah format teks menjadi hurud kecil semua\n",
        "  ulasan = ulasan.lower()\n",
        "\n",
        "  #Removing Number : untuk menghapus karakter angka\n",
        "  ulasan = re.sub(\"\\d+\", \"\", ulasan)\n",
        "\n",
        "  #Removing Punctuation : untuk menghapus karakter tanda baca\n",
        "  ulasan = ulasan.translate(str.maketrans(\"\",\"\",string.punctuation))\n",
        "\n",
        "  #Removing Whitespace : untuk menghapus karakter kosong\n",
        "  ulasan = ulasan.strip()\n",
        "  \n",
        "  return ulasan\n",
        "\n",
        "data_fix['ulasan']=data_fix['ulasan'].apply(casefolding)\n",
        "data_fix.head()"
      ],
      "execution_count": 10,
      "outputs": [
        {
          "output_type": "stream",
          "name": "stderr",
          "text": [
            "/usr/local/lib/python3.7/dist-packages/ipykernel_launcher.py:19: SettingWithCopyWarning: \n",
            "A value is trying to be set on a copy of a slice from a DataFrame.\n",
            "Try using .loc[row_indexer,col_indexer] = value instead\n",
            "\n",
            "See the caveats in the documentation: https://pandas.pydata.org/pandas-docs/stable/user_guide/indexing.html#returning-a-view-versus-a-copy\n"
          ]
        },
        {
          "output_type": "execute_result",
          "data": {
            "text/html": [
              "<div>\n",
              "<style scoped>\n",
              "    .dataframe tbody tr th:only-of-type {\n",
              "        vertical-align: middle;\n",
              "    }\n",
              "\n",
              "    .dataframe tbody tr th {\n",
              "        vertical-align: top;\n",
              "    }\n",
              "\n",
              "    .dataframe thead th {\n",
              "        text-align: right;\n",
              "    }\n",
              "</style>\n",
              "<table border=\"1\" class=\"dataframe\">\n",
              "  <thead>\n",
              "    <tr style=\"text-align: right;\">\n",
              "      <th></th>\n",
              "      <th>ulasan</th>\n",
              "      <th>nilai</th>\n",
              "    </tr>\n",
              "  </thead>\n",
              "  <tbody>\n",
              "    <tr>\n",
              "      <th>0</th>\n",
              "      <td>good job buat pintu saya kasih  kembangkan ter...</td>\n",
              "      <td>POSITIF</td>\n",
              "    </tr>\n",
              "    <tr>\n",
              "      <th>1</th>\n",
              "      <td>aplikasi ringan deposit dan wd banyak pilihan ...</td>\n",
              "      <td>POSITIF</td>\n",
              "    </tr>\n",
              "    <tr>\n",
              "      <th>2</th>\n",
              "      <td>kenapa utk crypto solana tdk bisa dilakukan pe...</td>\n",
              "      <td>NEGATIF</td>\n",
              "    </tr>\n",
              "    <tr>\n",
              "      <th>3</th>\n",
              "      <td>mau bikin koin hebat apa cari cuan aja emang m...</td>\n",
              "      <td>POSITIF</td>\n",
              "    </tr>\n",
              "    <tr>\n",
              "      <th>4</th>\n",
              "      <td>semakin susah kirim idrt ke binancengga sepert...</td>\n",
              "      <td>NEGATIF</td>\n",
              "    </tr>\n",
              "  </tbody>\n",
              "</table>\n",
              "</div>"
            ],
            "text/plain": [
              "                                              ulasan    nilai\n",
              "0  good job buat pintu saya kasih  kembangkan ter...  POSITIF\n",
              "1  aplikasi ringan deposit dan wd banyak pilihan ...  POSITIF\n",
              "2  kenapa utk crypto solana tdk bisa dilakukan pe...  NEGATIF\n",
              "3  mau bikin koin hebat apa cari cuan aja emang m...  POSITIF\n",
              "4  semakin susah kirim idrt ke binancengga sepert...  NEGATIF"
            ]
          },
          "metadata": {},
          "execution_count": 10
        }
      ]
    },
    {
      "cell_type": "markdown",
      "source": [
        "Preprocesing - Tokenizing "
      ],
      "metadata": {
        "id": "fWkCWVXFRZrV"
      }
    },
    {
      "cell_type": "code",
      "source": [
        "import string\n",
        "\n",
        "def tokenizing(ulasan):\n",
        "  # Untuk memisahkan perkata\n",
        "  ulasan = ulasan.split()\n",
        "\n",
        "  return ulasan \n",
        "\n",
        "data_fix['ulasan']=data_fix['ulasan'].apply(tokenizing)\n",
        "data_fix.head(1000)"
      ],
      "metadata": {
        "colab": {
          "base_uri": "https://localhost:8080/",
          "height": 528
        },
        "id": "5PrlodjCRvGl",
        "outputId": "e48e48f7-f17a-4d61-9e2e-adc1fb278321"
      },
      "execution_count": 11,
      "outputs": [
        {
          "output_type": "stream",
          "name": "stderr",
          "text": [
            "/usr/local/lib/python3.7/dist-packages/ipykernel_launcher.py:9: SettingWithCopyWarning: \n",
            "A value is trying to be set on a copy of a slice from a DataFrame.\n",
            "Try using .loc[row_indexer,col_indexer] = value instead\n",
            "\n",
            "See the caveats in the documentation: https://pandas.pydata.org/pandas-docs/stable/user_guide/indexing.html#returning-a-view-versus-a-copy\n",
            "  if __name__ == '__main__':\n"
          ]
        },
        {
          "output_type": "execute_result",
          "data": {
            "text/html": [
              "<div>\n",
              "<style scoped>\n",
              "    .dataframe tbody tr th:only-of-type {\n",
              "        vertical-align: middle;\n",
              "    }\n",
              "\n",
              "    .dataframe tbody tr th {\n",
              "        vertical-align: top;\n",
              "    }\n",
              "\n",
              "    .dataframe thead th {\n",
              "        text-align: right;\n",
              "    }\n",
              "</style>\n",
              "<table border=\"1\" class=\"dataframe\">\n",
              "  <thead>\n",
              "    <tr style=\"text-align: right;\">\n",
              "      <th></th>\n",
              "      <th>ulasan</th>\n",
              "      <th>nilai</th>\n",
              "    </tr>\n",
              "  </thead>\n",
              "  <tbody>\n",
              "    <tr>\n",
              "      <th>0</th>\n",
              "      <td>[good, job, buat, pintu, saya, kasih, kembangk...</td>\n",
              "      <td>POSITIF</td>\n",
              "    </tr>\n",
              "    <tr>\n",
              "      <th>1</th>\n",
              "      <td>[aplikasi, ringan, deposit, dan, wd, banyak, p...</td>\n",
              "      <td>POSITIF</td>\n",
              "    </tr>\n",
              "    <tr>\n",
              "      <th>2</th>\n",
              "      <td>[kenapa, utk, crypto, solana, tdk, bisa, dilak...</td>\n",
              "      <td>NEGATIF</td>\n",
              "    </tr>\n",
              "    <tr>\n",
              "      <th>3</th>\n",
              "      <td>[mau, bikin, koin, hebat, apa, cari, cuan, aja...</td>\n",
              "      <td>POSITIF</td>\n",
              "    </tr>\n",
              "    <tr>\n",
              "      <th>4</th>\n",
              "      <td>[semakin, susah, kirim, idrt, ke, binancengga,...</td>\n",
              "      <td>NEGATIF</td>\n",
              "    </tr>\n",
              "    <tr>\n",
              "      <th>...</th>\n",
              "      <td>...</td>\n",
              "      <td>...</td>\n",
              "    </tr>\n",
              "    <tr>\n",
              "      <th>995</th>\n",
              "      <td>[buruk]</td>\n",
              "      <td>NEGATIF</td>\n",
              "    </tr>\n",
              "    <tr>\n",
              "      <th>996</th>\n",
              "      <td>[sekarang, aplikasi, nya, lemot, bner, apa, la...</td>\n",
              "      <td>NEGATIF</td>\n",
              "    </tr>\n",
              "    <tr>\n",
              "      <th>997</th>\n",
              "      <td>[komisi, seumur, hidup, dari, referal, mantap,...</td>\n",
              "      <td>POSITIF</td>\n",
              "    </tr>\n",
              "    <tr>\n",
              "      <th>998</th>\n",
              "      <td>[good]</td>\n",
              "      <td>POSITIF</td>\n",
              "    </tr>\n",
              "    <tr>\n",
              "      <th>999</th>\n",
              "      <td>[engga, ada, radio, caca, nya, kalo, bisa, leb...</td>\n",
              "      <td>POSITIF</td>\n",
              "    </tr>\n",
              "  </tbody>\n",
              "</table>\n",
              "<p>1000 rows × 2 columns</p>\n",
              "</div>"
            ],
            "text/plain": [
              "                                                ulasan    nilai\n",
              "0    [good, job, buat, pintu, saya, kasih, kembangk...  POSITIF\n",
              "1    [aplikasi, ringan, deposit, dan, wd, banyak, p...  POSITIF\n",
              "2    [kenapa, utk, crypto, solana, tdk, bisa, dilak...  NEGATIF\n",
              "3    [mau, bikin, koin, hebat, apa, cari, cuan, aja...  POSITIF\n",
              "4    [semakin, susah, kirim, idrt, ke, binancengga,...  NEGATIF\n",
              "..                                                 ...      ...\n",
              "995                                            [buruk]  NEGATIF\n",
              "996  [sekarang, aplikasi, nya, lemot, bner, apa, la...  NEGATIF\n",
              "997  [komisi, seumur, hidup, dari, referal, mantap,...  POSITIF\n",
              "998                                             [good]  POSITIF\n",
              "999  [engga, ada, radio, caca, nya, kalo, bisa, leb...  POSITIF\n",
              "\n",
              "[1000 rows x 2 columns]"
            ]
          },
          "metadata": {},
          "execution_count": 11
        }
      ]
    },
    {
      "cell_type": "markdown",
      "source": [
        "Preprocessing - Filtering menggunakan NLTK"
      ],
      "metadata": {
        "id": "LLtXcFVbSzwB"
      }
    },
    {
      "cell_type": "code",
      "source": [
        "import nltk\n",
        "nltk.download('stopwords')\n",
        "from nltk.corpus import stopwords\n",
        "\n",
        "def removed(ulasan):\n",
        "  filtering = stopwords.words('indonesian','english')\n",
        "  x = []\n",
        "  data = []\n",
        "  def myFungsi(x):\n",
        "    if x in filtering:\n",
        "      return False\n",
        "    else:\n",
        "      return True\n",
        "  fit = filter(myFungsi, ulasan)\n",
        "  for x in fit:\n",
        "    data.append(x)\n",
        "  return data\n",
        "\n",
        "data_fix['ulasan']=data_fix['ulasan'].apply(removed)\n",
        "data_fix.head(1000)\n",
        "\n"
      ],
      "metadata": {
        "colab": {
          "base_uri": "https://localhost:8080/",
          "height": 545
        },
        "id": "itXDAlXYiVfZ",
        "outputId": "8a2dcc65-f63a-4ffa-80b4-5134c6714dba"
      },
      "execution_count": 12,
      "outputs": [
        {
          "output_type": "stream",
          "name": "stdout",
          "text": [
            "[nltk_data] Downloading package stopwords to /root/nltk_data...\n",
            "[nltk_data]   Unzipping corpora/stopwords.zip.\n"
          ]
        },
        {
          "output_type": "stream",
          "name": "stderr",
          "text": [
            "/usr/local/lib/python3.7/dist-packages/ipykernel_launcher.py:19: SettingWithCopyWarning: \n",
            "A value is trying to be set on a copy of a slice from a DataFrame.\n",
            "Try using .loc[row_indexer,col_indexer] = value instead\n",
            "\n",
            "See the caveats in the documentation: https://pandas.pydata.org/pandas-docs/stable/user_guide/indexing.html#returning-a-view-versus-a-copy\n"
          ]
        },
        {
          "output_type": "execute_result",
          "data": {
            "text/html": [
              "<div>\n",
              "<style scoped>\n",
              "    .dataframe tbody tr th:only-of-type {\n",
              "        vertical-align: middle;\n",
              "    }\n",
              "\n",
              "    .dataframe tbody tr th {\n",
              "        vertical-align: top;\n",
              "    }\n",
              "\n",
              "    .dataframe thead th {\n",
              "        text-align: right;\n",
              "    }\n",
              "</style>\n",
              "<table border=\"1\" class=\"dataframe\">\n",
              "  <thead>\n",
              "    <tr style=\"text-align: right;\">\n",
              "      <th></th>\n",
              "      <th>ulasan</th>\n",
              "      <th>nilai</th>\n",
              "    </tr>\n",
              "  </thead>\n",
              "  <tbody>\n",
              "    <tr>\n",
              "      <th>0</th>\n",
              "      <td>[good, job, pintu, kasih, kembangkan, sukses]</td>\n",
              "      <td>POSITIF</td>\n",
              "    </tr>\n",
              "    <tr>\n",
              "      <th>1</th>\n",
              "      <td>[aplikasi, ringan, deposit, wd, pilihan, mudah...</td>\n",
              "      <td>POSITIF</td>\n",
              "    </tr>\n",
              "    <tr>\n",
              "      <th>2</th>\n",
              "      <td>[utk, crypto, solana, tdk, pembelian]</td>\n",
              "      <td>NEGATIF</td>\n",
              "    </tr>\n",
              "    <tr>\n",
              "      <th>3</th>\n",
              "      <td>[bikin, koin, hebat, cari, cuan, aja, emang, k...</td>\n",
              "      <td>POSITIF</td>\n",
              "    </tr>\n",
              "    <tr>\n",
              "      <th>4</th>\n",
              "      <td>[susah, kirim, idrt, binancengga]</td>\n",
              "      <td>NEGATIF</td>\n",
              "    </tr>\n",
              "    <tr>\n",
              "      <th>...</th>\n",
              "      <td>...</td>\n",
              "      <td>...</td>\n",
              "    </tr>\n",
              "    <tr>\n",
              "      <th>995</th>\n",
              "      <td>[buruk]</td>\n",
              "      <td>NEGATIF</td>\n",
              "    </tr>\n",
              "    <tr>\n",
              "      <th>996</th>\n",
              "      <td>[aplikasi, nya, lemot, bner, jual, beli, harga...</td>\n",
              "      <td>NEGATIF</td>\n",
              "    </tr>\n",
              "    <tr>\n",
              "      <th>997</th>\n",
              "      <td>[komisi, seumur, hidup, referal, mantap, seman...</td>\n",
              "      <td>POSITIF</td>\n",
              "    </tr>\n",
              "    <tr>\n",
              "      <th>998</th>\n",
              "      <td>[good]</td>\n",
              "      <td>POSITIF</td>\n",
              "    </tr>\n",
              "    <tr>\n",
              "      <th>999</th>\n",
              "      <td>[engga, radio, caca, nya, kalo, kumplit, tq, 🙏]</td>\n",
              "      <td>POSITIF</td>\n",
              "    </tr>\n",
              "  </tbody>\n",
              "</table>\n",
              "<p>1000 rows × 2 columns</p>\n",
              "</div>"
            ],
            "text/plain": [
              "                                                ulasan    nilai\n",
              "0        [good, job, pintu, kasih, kembangkan, sukses]  POSITIF\n",
              "1    [aplikasi, ringan, deposit, wd, pilihan, mudah...  POSITIF\n",
              "2                [utk, crypto, solana, tdk, pembelian]  NEGATIF\n",
              "3    [bikin, koin, hebat, cari, cuan, aja, emang, k...  POSITIF\n",
              "4                    [susah, kirim, idrt, binancengga]  NEGATIF\n",
              "..                                                 ...      ...\n",
              "995                                            [buruk]  NEGATIF\n",
              "996  [aplikasi, nya, lemot, bner, jual, beli, harga...  NEGATIF\n",
              "997  [komisi, seumur, hidup, referal, mantap, seman...  POSITIF\n",
              "998                                             [good]  POSITIF\n",
              "999    [engga, radio, caca, nya, kalo, kumplit, tq, 🙏]  POSITIF\n",
              "\n",
              "[1000 rows x 2 columns]"
            ]
          },
          "metadata": {},
          "execution_count": 12
        }
      ]
    },
    {
      "cell_type": "markdown",
      "source": [
        "Preprocessing - Stemming"
      ],
      "metadata": {
        "id": "Bs3NahIijZDA"
      }
    },
    {
      "cell_type": "code",
      "source": [
        "!pip install sastrawi"
      ],
      "metadata": {
        "colab": {
          "base_uri": "https://localhost:8080/"
        },
        "id": "0mGVCU_ugNyn",
        "outputId": "cdcbdc0f-dbc1-4b0b-d6f7-e5a0d5907131"
      },
      "execution_count": 13,
      "outputs": [
        {
          "output_type": "stream",
          "name": "stdout",
          "text": [
            "Collecting sastrawi\n",
            "  Downloading Sastrawi-1.0.1-py2.py3-none-any.whl (209 kB)\n",
            "\u001b[?25l\r\u001b[K     |█▋                              | 10 kB 15.9 MB/s eta 0:00:01\r\u001b[K     |███▏                            | 20 kB 22.2 MB/s eta 0:00:01\r\u001b[K     |████▊                           | 30 kB 15.1 MB/s eta 0:00:01\r\u001b[K     |██████▎                         | 40 kB 10.5 MB/s eta 0:00:01\r\u001b[K     |███████▉                        | 51 kB 5.5 MB/s eta 0:00:01\r\u001b[K     |█████████▍                      | 61 kB 6.1 MB/s eta 0:00:01\r\u001b[K     |███████████                     | 71 kB 5.8 MB/s eta 0:00:01\r\u001b[K     |████████████▌                   | 81 kB 6.5 MB/s eta 0:00:01\r\u001b[K     |██████████████                  | 92 kB 4.8 MB/s eta 0:00:01\r\u001b[K     |███████████████▋                | 102 kB 5.2 MB/s eta 0:00:01\r\u001b[K     |█████████████████▏              | 112 kB 5.2 MB/s eta 0:00:01\r\u001b[K     |██████████████████▊             | 122 kB 5.2 MB/s eta 0:00:01\r\u001b[K     |████████████████████▎           | 133 kB 5.2 MB/s eta 0:00:01\r\u001b[K     |█████████████████████▉          | 143 kB 5.2 MB/s eta 0:00:01\r\u001b[K     |███████████████████████▍        | 153 kB 5.2 MB/s eta 0:00:01\r\u001b[K     |█████████████████████████       | 163 kB 5.2 MB/s eta 0:00:01\r\u001b[K     |██████████████████████████▋     | 174 kB 5.2 MB/s eta 0:00:01\r\u001b[K     |████████████████████████████▏   | 184 kB 5.2 MB/s eta 0:00:01\r\u001b[K     |█████████████████████████████▊  | 194 kB 5.2 MB/s eta 0:00:01\r\u001b[K     |███████████████████████████████▎| 204 kB 5.2 MB/s eta 0:00:01\r\u001b[K     |████████████████████████████████| 209 kB 5.2 MB/s \n",
            "\u001b[?25hInstalling collected packages: sastrawi\n",
            "Successfully installed sastrawi-1.0.1\n"
          ]
        }
      ]
    },
    {
      "cell_type": "code",
      "source": [
        "from sklearn.pipeline import Pipeline\n",
        "from Sastrawi.Stemmer.StemmerFactory import StemmerFactory\n",
        "\n",
        "def stemming(ulasan):\n",
        "  factory = StemmerFactory()\n",
        "  stemmer = factory.create_stemmer()\n",
        "  do = []\n",
        "  for x in ulasan:\n",
        "    dt = stemmer.stem(x)\n",
        "    do.append(dt)\n",
        "  data_clean = []\n",
        "  data_clean = \" \".join(do)\n",
        "  return data_clean\n",
        "\n",
        "data_fix['ulasan']=data_fix['ulasan'].apply(stemming)\n",
        "data_fix.head(1000)\n",
        "\n"
      ],
      "metadata": {
        "colab": {
          "base_uri": "https://localhost:8080/",
          "height": 528
        },
        "id": "54cMDPmMkBHW",
        "outputId": "7a083286-7e18-406f-a3a3-5f936730a19f"
      },
      "execution_count": 14,
      "outputs": [
        {
          "output_type": "stream",
          "name": "stderr",
          "text": [
            "/usr/local/lib/python3.7/dist-packages/ipykernel_launcher.py:15: SettingWithCopyWarning: \n",
            "A value is trying to be set on a copy of a slice from a DataFrame.\n",
            "Try using .loc[row_indexer,col_indexer] = value instead\n",
            "\n",
            "See the caveats in the documentation: https://pandas.pydata.org/pandas-docs/stable/user_guide/indexing.html#returning-a-view-versus-a-copy\n",
            "  from ipykernel import kernelapp as app\n"
          ]
        },
        {
          "output_type": "execute_result",
          "data": {
            "text/html": [
              "<div>\n",
              "<style scoped>\n",
              "    .dataframe tbody tr th:only-of-type {\n",
              "        vertical-align: middle;\n",
              "    }\n",
              "\n",
              "    .dataframe tbody tr th {\n",
              "        vertical-align: top;\n",
              "    }\n",
              "\n",
              "    .dataframe thead th {\n",
              "        text-align: right;\n",
              "    }\n",
              "</style>\n",
              "<table border=\"1\" class=\"dataframe\">\n",
              "  <thead>\n",
              "    <tr style=\"text-align: right;\">\n",
              "      <th></th>\n",
              "      <th>ulasan</th>\n",
              "      <th>nilai</th>\n",
              "    </tr>\n",
              "  </thead>\n",
              "  <tbody>\n",
              "    <tr>\n",
              "      <th>0</th>\n",
              "      <td>good job pintu kasih kembang sukses</td>\n",
              "      <td>POSITIF</td>\n",
              "    </tr>\n",
              "    <tr>\n",
              "      <th>1</th>\n",
              "      <td>aplikasi ringan deposit wd pilih mudah ajar co...</td>\n",
              "      <td>POSITIF</td>\n",
              "    </tr>\n",
              "    <tr>\n",
              "      <th>2</th>\n",
              "      <td>utk crypto solana tdk beli</td>\n",
              "      <td>NEGATIF</td>\n",
              "    </tr>\n",
              "    <tr>\n",
              "      <th>3</th>\n",
              "      <td>bikin koin hebat cari cuan aja emang kaya bkin...</td>\n",
              "      <td>POSITIF</td>\n",
              "    </tr>\n",
              "    <tr>\n",
              "      <th>4</th>\n",
              "      <td>susah kirim idrt binancengga</td>\n",
              "      <td>NEGATIF</td>\n",
              "    </tr>\n",
              "    <tr>\n",
              "      <th>...</th>\n",
              "      <td>...</td>\n",
              "      <td>...</td>\n",
              "    </tr>\n",
              "    <tr>\n",
              "      <th>995</th>\n",
              "      <td>buruk</td>\n",
              "      <td>NEGATIF</td>\n",
              "    </tr>\n",
              "    <tr>\n",
              "      <th>996</th>\n",
              "      <td>aplikasi nya lot bner jual beli harga ubah tru...</td>\n",
              "      <td>NEGATIF</td>\n",
              "    </tr>\n",
              "    <tr>\n",
              "      <th>997</th>\n",
              "      <td>komisi umur hidup referal mantap semangat ajak...</td>\n",
              "      <td>POSITIF</td>\n",
              "    </tr>\n",
              "    <tr>\n",
              "      <th>998</th>\n",
              "      <td>good</td>\n",
              "      <td>POSITIF</td>\n",
              "    </tr>\n",
              "    <tr>\n",
              "      <th>999</th>\n",
              "      <td>engga radio caca nya kalo kumplit tq</td>\n",
              "      <td>POSITIF</td>\n",
              "    </tr>\n",
              "  </tbody>\n",
              "</table>\n",
              "<p>1000 rows × 2 columns</p>\n",
              "</div>"
            ],
            "text/plain": [
              "                                                ulasan    nilai\n",
              "0                  good job pintu kasih kembang sukses  POSITIF\n",
              "1    aplikasi ringan deposit wd pilih mudah ajar co...  POSITIF\n",
              "2                           utk crypto solana tdk beli  NEGATIF\n",
              "3    bikin koin hebat cari cuan aja emang kaya bkin...  POSITIF\n",
              "4                         susah kirim idrt binancengga  NEGATIF\n",
              "..                                                 ...      ...\n",
              "995                                              buruk  NEGATIF\n",
              "996  aplikasi nya lot bner jual beli harga ubah tru...  NEGATIF\n",
              "997  komisi umur hidup referal mantap semangat ajak...  POSITIF\n",
              "998                                               good  POSITIF\n",
              "999              engga radio caca nya kalo kumplit tq   POSITIF\n",
              "\n",
              "[1000 rows x 2 columns]"
            ]
          },
          "metadata": {},
          "execution_count": 14
        }
      ]
    },
    {
      "cell_type": "code",
      "source": [
        "data_clean = data_fix[['ulasan','nilai']]\n",
        "data_clean.to_csv(\"Data-Clean.csv\", index=False)"
      ],
      "metadata": {
        "id": "H-M-JqBYo20s"
      },
      "execution_count": 15,
      "outputs": []
    }
  ]
}